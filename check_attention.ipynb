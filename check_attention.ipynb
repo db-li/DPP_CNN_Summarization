{
 "cells": [
  {
   "cell_type": "code",
   "execution_count": null,
   "metadata": {
    "ExecuteTime": {
     "end_time": "2019-06-05T11:59:18.256843Z",
     "start_time": "2019-06-05T11:59:18.010514Z"
    }
   },
   "outputs": [],
   "source": [
    "import _pickle as pickle\n",
    "import torch\n",
    "import matplotlib.pyplot as plt\n",
    "import numpy as np\n",
    "import math"
   ]
  },
  {
   "cell_type": "code",
   "execution_count": null,
   "metadata": {
    "ExecuteTime": {
     "end_time": "2019-06-05T11:59:18.277694Z",
     "start_time": "2019-06-05T11:59:18.275941Z"
    }
   },
   "outputs": [],
   "source": [
    "sample = 0"
   ]
  },
  {
   "cell_type": "code",
   "execution_count": null,
   "metadata": {
    "ExecuteTime": {
     "end_time": "2019-06-05T11:59:21.771683Z",
     "start_time": "2019-06-05T11:59:19.472529Z"
    }
   },
   "outputs": [],
   "source": [
    "attention = pickle.load(\n",
    "    open(\n",
    "        \"./fairseq/result/summarization_vanilla_cnndm/attention/attention_distribution_\"\n",
    "        + str(sample) + \".dat\", \"rb\"))\n",
    "attention_micro = pickle.load(\n",
    "    open(\n",
    "        \"./fairseq/result/summarization_dpp_micro_cnndm/attention/attention_distribution_\"\n",
    "        + str(sample) + \".dat\", \"rb\"))\n",
    "attention_macro = pickle.load(\n",
    "    open(\n",
    "        \"./fairseq/result/summarization_dpp_macro_cnndm/attention/attention_distribution_\"\n",
    "        + str(sample) + \".dat\", \"rb\"))"
   ]
  },
  {
   "cell_type": "code",
   "execution_count": null,
   "metadata": {
    "ExecuteTime": {
     "end_time": "2019-06-05T11:59:21.774848Z",
     "start_time": "2019-06-05T11:59:21.772765Z"
    }
   },
   "outputs": [],
   "source": [
    "distribution = attention[:, :].cpu().numpy()\n",
    "distribution_micro = attention_micro[:, :].cpu().numpy()\n",
    "distribution_macro = attention_macro[:, :].cpu().numpy()"
   ]
  },
  {
   "cell_type": "code",
   "execution_count": null,
   "metadata": {
    "ExecuteTime": {
     "end_time": "2019-05-28T11:53:23.283012Z",
     "start_time": "2019-05-28T11:53:22.999217Z"
    }
   },
   "outputs": [],
   "source": [
    "plt.figure(figsize=(5, 3))\n",
    "plt.rcParams['savefig.dpi'] = 200  \n",
    "plt.rcParams['figure.dpi'] = 200  \n",
    "t = np.linspace(0, distribution.shape[0], distribution.shape[0])\n",
    "plt.xlabel(\"article word position\", fontsize=8)\n",
    "plt.ylabel(\"attention weight\", fontsize=8)\n",
    "for i in range(20):\n",
    "    plt.plot(\n",
    "        t,\n",
    "        distribution[:, i],\n",
    "        'orangered',\n",
    "        label='Attention Learned by Vanilla Model')\n",
    "    plt.plot(\n",
    "        t,\n",
    "        distribution_micro[:, i],\n",
    "        'seagreen',\n",
    "        label='Attention Learned by Micro DPPs Model')\n",
    "    plt.plot(\n",
    "        t,\n",
    "        distribution_macro[:, i],\n",
    "        'deepskyblue',\n",
    "        label='Attention Learned by Macro DPPs Model')\n",
    "    if i == 0:\n",
    "        plt.legend(fontsize=8)"
   ]
  },
  {
   "cell_type": "code",
   "execution_count": null,
   "metadata": {
    "ExecuteTime": {
     "end_time": "2019-06-05T12:00:34.768592Z",
     "start_time": "2019-06-05T12:00:34.540763Z"
    }
   },
   "outputs": [],
   "source": [
    "plt.figure(figsize=(5, 3))\n",
    "plt.rcParams['savefig.dpi'] = 200  \n",
    "plt.rcParams['figure.dpi'] = 200  \n",
    "t = np.linspace(0, distribution.shape[0], distribution.shape[0])\n",
    "plt.xlabel(\"article word position\", fontsize=8)\n",
    "plt.ylabel(\"attention weight\", fontsize=8)\n",
    "for i in range(20):\n",
    "    plt.plot(\n",
    "        t,\n",
    "        distribution[:, i],\n",
    "        'deepskyblue',\n",
    "        label='CNN Seq2Seq')\n",
    "    plt.plot(\n",
    "        t,\n",
    "        distribution_macro[:, i],\n",
    "        'seagreen',\n",
    "        label='DivCNN Seq2Seq')\n",
    "    if i == 0:\n",
    "        plt.legend(fontsize=8)"
   ]
  }
 ],
 "metadata": {
  "kernelspec": {
   "display_name": "Python 3",
   "language": "python",
   "name": "python3"
  },
  "language_info": {
   "codemirror_mode": {
    "name": "ipython",
    "version": 3
   },
   "file_extension": ".py",
   "mimetype": "text/x-python",
   "name": "python",
   "nbconvert_exporter": "python",
   "pygments_lexer": "ipython3",
   "version": "3.7.3"
  },
  "latex_envs": {
   "LaTeX_envs_menu_present": true,
   "autoclose": false,
   "autocomplete": true,
   "bibliofile": "biblio.bib",
   "cite_by": "apalike",
   "current_citInitial": 1,
   "eqLabelWithNumbers": true,
   "eqNumInitial": 1,
   "hotkeys": {
    "equation": "Ctrl-E",
    "itemize": "Ctrl-I"
   },
   "labels_anchors": false,
   "latex_user_defs": false,
   "report_style_numbering": false,
   "user_envs_cfg": false
  }
 },
 "nbformat": 4,
 "nbformat_minor": 2
}
