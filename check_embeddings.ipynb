{
 "cells": [
  {
   "cell_type": "code",
   "execution_count": null,
   "metadata": {
    "ExecuteTime": {
     "end_time": "2019-09-09T08:51:46.409188Z",
     "start_time": "2019-09-09T08:51:45.574572Z"
    }
   },
   "outputs": [],
   "source": [
    "import torch\n",
    "from sklearn import manifold\n",
    "import matplotlib.pyplot as plt\n",
    "import _pickle as pickle\n",
    "from torch import nn"
   ]
  },
  {
   "cell_type": "code",
   "execution_count": null,
   "metadata": {
    "ExecuteTime": {
     "end_time": "2019-09-09T08:51:47.003882Z",
     "start_time": "2019-09-09T08:51:46.931609Z"
    }
   },
   "outputs": [],
   "source": [
    "raw_vanilla = torch.load(\"./fairseq/checkpoints/summarization_vanilla_cnndm/checkpoint_best.pt\")\n",
    "raw_macro = torch.load(\"./fairseq/checkpoints/summarization_dpp_macro_cnndm/checkpoint_best.pt\")\n",
    "raw_micro = torch.load(\"./fairseq/checkpoints/summarization_dpp_micro_cnndm/checkpoint_best.pt\")"
   ]
  },
  {
   "cell_type": "code",
   "execution_count": null,
   "metadata": {
    "ExecuteTime": {
     "end_time": "2019-06-09T02:51:23.639468Z",
     "start_time": "2019-06-09T02:51:23.637222Z"
    }
   },
   "outputs": [],
   "source": [
    "for key in raw_vanilla:\n",
    "    print(key)"
   ]
  },
  {
   "cell_type": "code",
   "execution_count": null,
   "metadata": {
    "ExecuteTime": {
     "end_time": "2019-06-09T02:51:23.645229Z",
     "start_time": "2019-06-09T02:51:23.640368Z"
    }
   },
   "outputs": [],
   "source": [
    "model_vanilla = raw_vanilla['model']\n",
    "model_macro = raw_macro['model']\n",
    "model_micro = raw_micro['model']"
   ]
  },
  {
   "cell_type": "code",
   "execution_count": null,
   "metadata": {
    "ExecuteTime": {
     "end_time": "2019-06-09T02:51:23.655161Z",
     "start_time": "2019-06-09T02:51:23.646000Z"
    }
   },
   "outputs": [],
   "source": [
    "for key in model_vanilla:\n",
    "    print(key)"
   ]
  },
  {
   "cell_type": "code",
   "execution_count": null,
   "metadata": {
    "ExecuteTime": {
     "end_time": "2019-06-09T02:51:23.659526Z",
     "start_time": "2019-06-09T02:51:23.655825Z"
    }
   },
   "outputs": [],
   "source": [
    "embed_vanilla = model_vanilla['encoder.embed_tokens.weight'][:1000,:]\n",
    "embed_macro = model_macro['encoder.embed_tokens.weight'][:1000,:]\n",
    "embed_micro = model_micro['encoder.embed_tokens.weight'][:1000,:]"
   ]
  },
  {
   "cell_type": "code",
   "execution_count": null,
   "metadata": {
    "ExecuteTime": {
     "end_time": "2019-06-09T02:51:23.665131Z",
     "start_time": "2019-06-09T02:51:23.660287Z"
    }
   },
   "outputs": [],
   "source": [
    "tsne = manifold.TSNE(n_components=2, init='pca', random_state=233)"
   ]
  },
  {
   "cell_type": "code",
   "execution_count": null,
   "metadata": {
    "ExecuteTime": {
     "end_time": "2019-06-09T02:51:40.423503Z",
     "start_time": "2019-06-09T02:51:23.702426Z"
    }
   },
   "outputs": [],
   "source": [
    "vanilla_tsne = tsne.fit_transform(embed_vanilla.cpu().numpy())\n",
    "macro_tsne = tsne.fit_transform(embed_macro.cpu().numpy())\n",
    "micro_tsne = tsne.fit_transform(embed_micro.cpu().numpy())"
   ]
  },
  {
   "cell_type": "code",
   "execution_count": null,
   "metadata": {
    "ExecuteTime": {
     "end_time": "2019-06-09T02:54:29.757163Z",
     "start_time": "2019-06-09T02:54:29.590897Z"
    }
   },
   "outputs": [],
   "source": [
    "plt.figure(figsize=(8,5))\n",
    "plt.rcParams['savefig.dpi'] = 100 \n",
    "plt.rcParams['figure.dpi'] = 100 \n",
    "plt.scatter(vanilla_tsne[:,0],vanilla_tsne[:,1],marker=\".\",c=\"deepskyblue\",label=\"CNN Seq2Seq\")\n",
    "plt.scatter(macro_tsne[:,0],macro_tsne[:,1],marker=\".\",c=\"seagreen\",label=\"DivCNN Seq2Seq\")\n",
    "plt.xlabel('Dimension 1', fontsize=15)\n",
    "plt.ylabel('Dimension 2', fontsize=15)\n",
    "plt.legend(fontsize=15)"
   ]
  }
 ],
 "metadata": {
  "kernelspec": {
   "display_name": "Python 3",
   "language": "python",
   "name": "python3"
  },
  "language_info": {
   "codemirror_mode": {
    "name": "ipython",
    "version": 3
   },
   "file_extension": ".py",
   "mimetype": "text/x-python",
   "name": "python",
   "nbconvert_exporter": "python",
   "pygments_lexer": "ipython3",
   "version": "3.7.3"
  },
  "latex_envs": {
   "LaTeX_envs_menu_present": true,
   "autoclose": false,
   "autocomplete": true,
   "bibliofile": "biblio.bib",
   "cite_by": "apalike",
   "current_citInitial": 1,
   "eqLabelWithNumbers": true,
   "eqNumInitial": 1,
   "hotkeys": {
    "equation": "Ctrl-E",
    "itemize": "Ctrl-I"
   },
   "labels_anchors": false,
   "latex_user_defs": false,
   "report_style_numbering": false,
   "user_envs_cfg": false
  }
 },
 "nbformat": 4,
 "nbformat_minor": 2
}
