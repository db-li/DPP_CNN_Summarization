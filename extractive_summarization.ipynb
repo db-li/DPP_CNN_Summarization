{
 "cells": [
  {
   "cell_type": "code",
   "execution_count": null,
   "metadata": {
    "ExecuteTime": {
     "end_time": "2019-05-27T12:12:43.898367Z",
     "start_time": "2019-05-27T12:12:43.893287Z"
    }
   },
   "outputs": [],
   "source": [
    "import _pickle as pickle\n",
    "import torch\n",
    "import matplotlib.pyplot as plt\n",
    "import numpy as np\n",
    "import math\n",
    "from tqdm import tqdm\n",
    "import re"
   ]
  },
  {
   "cell_type": "code",
   "execution_count": null,
   "metadata": {
    "ExecuteTime": {
     "end_time": "2019-05-27T12:12:44.153824Z",
     "start_time": "2019-05-27T12:12:44.115701Z"
    }
   },
   "outputs": [],
   "source": [
    "src = []\n",
    "with open(\"./fairseq/raw_dataset/cnndm/raw/test.src\",\"r\") as f:\n",
    "    for line in f:\n",
    "        src.append(line)"
   ]
  },
  {
   "cell_type": "code",
   "execution_count": null,
   "metadata": {
    "ExecuteTime": {
     "end_time": "2019-05-27T12:13:37.796017Z",
     "start_time": "2019-05-27T12:13:37.789311Z"
    }
   },
   "outputs": [],
   "source": [
    "def extract(idx):\n",
    "    attention = pickle.load(open(\"./fairseq/result/summarization_vanilla_cnndm/attention/attention_distribution_\"+str(idx)+\".dat\",\"rb\"))\n",
    "    avg_attention = torch.sum(attention, dim=1).cpu().numpy()\n",
    "    tokens = src[idx].split(\" \")[:-1]\n",
    "    sentences = src[idx].split(\" . \")[:-1]      \n",
    "    attention = 0.0\n",
    "    attn_sentence = []\n",
    "    l = min(len(tokens),len(avg_attention))\n",
    "    for i in range(l):\n",
    "        if tokens[i] == '.':\n",
    "            attn_sentence.append(attention)\n",
    "            attention = 0.0\n",
    "        else:\n",
    "            attention += avg_attention[i]  \n",
    "    attn_sorted = sorted(zip(attn_sentence, sentences), key=lambda pair: pair[0])\n",
    "    attn, chosen = zip(*attn_sorted[-2:])\n",
    "    result = \" \".join(chosen)\n",
    "    with open(\"./fairseq/result/summarization_extractive_cnndm-nounk/models/model.\"+str(idx)+\".txt\",\"w\") as f:\n",
    "        f.write(result)    "
   ]
  },
  {
   "cell_type": "code",
   "execution_count": null,
   "metadata": {
    "ExecuteTime": {
     "end_time": "2019-05-27T12:13:44.876932Z",
     "start_time": "2019-05-27T12:13:37.980443Z"
    }
   },
   "outputs": [],
   "source": [
    "for i in tqdm(range(11490)):\n",
    "    extract(i)"
   ]
  }
 ],
 "metadata": {
  "kernelspec": {
   "display_name": "Python 3",
   "language": "python",
   "name": "python3"
  },
  "language_info": {
   "codemirror_mode": {
    "name": "ipython",
    "version": 3
   },
   "file_extension": ".py",
   "mimetype": "text/x-python",
   "name": "python",
   "nbconvert_exporter": "python",
   "pygments_lexer": "ipython3",
   "version": "3.7.3"
  },
  "latex_envs": {
   "LaTeX_envs_menu_present": true,
   "autoclose": false,
   "autocomplete": true,
   "bibliofile": "biblio.bib",
   "cite_by": "apalike",
   "current_citInitial": 1,
   "eqLabelWithNumbers": true,
   "eqNumInitial": 1,
   "hotkeys": {
    "equation": "Ctrl-E",
    "itemize": "Ctrl-I"
   },
   "labels_anchors": false,
   "latex_user_defs": false,
   "report_style_numbering": false,
   "user_envs_cfg": false
  }
 },
 "nbformat": 4,
 "nbformat_minor": 2
}
